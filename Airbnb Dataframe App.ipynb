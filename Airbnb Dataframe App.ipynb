{
 "cells": [
  {
   "cell_type": "code",
   "execution_count": 2,
   "id": "dee8ff8d",
   "metadata": {},
   "outputs": [
    {
     "name": "stderr",
     "output_type": "stream",
     "text": [
      "Downloading...\n",
      "From: https://drive.google.com/uc?id=1m185vTdh-u7_A2ZElBvUD4SCO6oETll2\n",
      "To: C:\\Users\\zisto\\listings_project.pkl\n",
      "100%|██████████| 1.42M/1.42M [00:00<00:00, 17.4MB/s]\n",
      "Downloading...\n",
      "From: https://drive.google.com/uc?id=1w41V1oWHJrBdaNJJQ4oxVBuml5CO7MQX\n",
      "To: C:\\Users\\zisto\\calendar_project.parquet\n",
      "100%|██████████| 1.23M/1.23M [00:00<00:00, 13.9MB/s]\n"
     ]
    },
    {
     "data": {
      "text/plain": [
       "'calendar_project.parquet'"
      ]
     },
     "execution_count": 2,
     "metadata": {},
     "output_type": "execute_result"
    }
   ],
   "source": [
    "import os\n",
    "import shutil\n",
    "\n",
    "import gdown\n",
    "import numpy as np\n",
    "import pandas as pd\n",
    "\n",
    "# Download files from Google Drive\n",
    "# Based on data from: http://insideairbnb.com/get-the-data/\n",
    "file_id_1 = \"1m185vTdh-u7_A2ZElBvUD4SCO6oETll2\"\n",
    "file_id_2 = \"1w41V1oWHJrBdaNJJQ4oxVBuml5CO7MQX\"\n",
    "downloaded_file_1 = \"listings_project.pkl\"\n",
    "downloaded_file_2 = \"calendar_project.parquet\"\n",
    "# Download the files from Google Drive\n",
    "gdown.download(id=file_id_1, output=downloaded_file_1)\n",
    "gdown.download(id=file_id_2, output=downloaded_file_2)"
   ]
  },
  {
   "cell_type": "code",
   "execution_count": 3,
   "id": "58afb8aa",
   "metadata": {},
   "outputs": [],
   "source": [
    "# Show all columns (instead of cascading columns in the middle)\n",
    "pd.set_option(\"display.max_columns\", None)\n",
    "# Don't show numbers in scientific notation\n",
    "pd.set_option(\"display.float_format\", \"{:.2f}\".format)"
   ]
  },
  {
   "cell_type": "code",
   "execution_count": 4,
   "id": "51fb7bc5",
   "metadata": {},
   "outputs": [],
   "source": [
    "df_list = pd.read_pickle(\"listings_project.pkl\")\n",
    "df_cal = pd.read_parquet(\"calendar_project.parquet\", engine=\"pyarrow\")"
   ]
  },
  {
   "cell_type": "code",
   "execution_count": 5,
   "id": "54ce6634",
   "metadata": {},
   "outputs": [
    {
     "name": "stdout",
     "output_type": "stream",
     "text": [
      "<class 'pandas.core.frame.DataFrame'>\n",
      "Int64Index: 6165 entries, 0 to 6172\n",
      "Data columns (total 34 columns):\n",
      " #   Column                                Non-Null Count  Dtype  \n",
      "---  ------                                --------------  -----  \n",
      " 0   id                                    6165 non-null   int64  \n",
      " 1   host_acceptance_rate                  5365 non-null   float64\n",
      " 2   host_is_superhost                     6165 non-null   object \n",
      " 3   host_listings_count                   6165 non-null   int64  \n",
      " 4   host_total_listings_count             6165 non-null   int64  \n",
      " 5   neighbourhood_cleansed                6165 non-null   object \n",
      " 6   latitude                              6165 non-null   float64\n",
      " 7   longitude                             6165 non-null   float64\n",
      " 8   room_type                             6165 non-null   object \n",
      " 9   accommodates                          6165 non-null   int64  \n",
      " 10  bedrooms                              5859 non-null   float64\n",
      " 11  beds                                  6082 non-null   float64\n",
      " 12  amenities                             6165 non-null   int64  \n",
      " 13  price                                 6165 non-null   object \n",
      " 14  minimum_nights                        6165 non-null   int64  \n",
      " 15  maximum_nights                        6165 non-null   int64  \n",
      " 16  has_availability                      6165 non-null   object \n",
      " 17  availability_30                       6165 non-null   int64  \n",
      " 18  availability_60                       6165 non-null   int64  \n",
      " 19  availability_90                       6165 non-null   int64  \n",
      " 20  availability_365                      6165 non-null   int64  \n",
      " 21  number_of_reviews                     6165 non-null   int64  \n",
      " 22  number_of_reviews_ltm                 6165 non-null   int64  \n",
      " 23  number_of_reviews_l30d                6165 non-null   int64  \n",
      " 24  review_scores_rating                  5581 non-null   float64\n",
      " 25  instant_bookable                      6165 non-null   object \n",
      " 26  reviews_per_month                     5581 non-null   float64\n",
      " 27  price_in_euros                        0 non-null      object \n",
      " 28  price_per_person                      6165 non-null   object \n",
      " 29  minimum_price                         6165 non-null   object \n",
      " 30  discount_per_5_days_booked            6165 non-null   object \n",
      " 31  discount_per_10_days_booked           6165 non-null   object \n",
      " 32  discount_per_30_and_more_days_booked  6165 non-null   object \n",
      " 33  service_cost                          6165 non-null   object \n",
      "dtypes: float64(7), int64(14), object(13)\n",
      "memory usage: 1.6+ MB\n"
     ]
    }
   ],
   "source": [
    "df_list.info(verbose=True, show_counts=True)"
   ]
  },
  {
   "cell_type": "code",
   "execution_count": 6,
   "id": "2d061b3d",
   "metadata": {},
   "outputs": [
    {
     "data": {
      "text/plain": [
       "0    5%\n",
       "1    5%\n",
       "2    7%\n",
       "3    6%\n",
       "4    9%\n",
       "Name: discount_per_5_days_booked, dtype: object"
      ]
     },
     "execution_count": 6,
     "metadata": {},
     "output_type": "execute_result"
    }
   ],
   "source": [
    "df_list.discount_per_5_days_booked.head(5)"
   ]
  },
  {
   "cell_type": "code",
   "execution_count": 7,
   "id": "bfc2a229",
   "metadata": {},
   "outputs": [],
   "source": [
    "df_list[\"discount_per_5_days_booked\"] = (\n",
    "    df_list[\"discount_per_5_days_booked\"]\n",
    "    .str.replace(\"%\", \"\", regex=True)\n",
    "    .astype(\"float\")\n",
    "    * 0.01\n",
    ")\n",
    "df_list[\"discount_per_10_days_booked\"] = (\n",
    "    df_list[\"discount_per_10_days_booked\"]\n",
    "    .str.replace(\"%\", \"\", regex=True)\n",
    "    .astype(\"float\")\n",
    "    * 0.01\n",
    ")\n",
    "df_list[\"discount_per_30_and_more_days_booked\"] = (\n",
    "    df_list[\"discount_per_30_and_more_days_booked\"]\n",
    "    .str.replace(\"%\", \"\", regex=True)\n",
    "    .astype(\"float\")\n",
    "    * 0.01\n",
    ")"
   ]
  },
  {
   "cell_type": "code",
   "execution_count": 8,
   "id": "b413ac91",
   "metadata": {},
   "outputs": [
    {
     "data": {
      "text/html": [
       "<div>\n",
       "<style scoped>\n",
       "    .dataframe tbody tr th:only-of-type {\n",
       "        vertical-align: middle;\n",
       "    }\n",
       "\n",
       "    .dataframe tbody tr th {\n",
       "        vertical-align: top;\n",
       "    }\n",
       "\n",
       "    .dataframe thead th {\n",
       "        text-align: right;\n",
       "    }\n",
       "</style>\n",
       "<table border=\"1\" class=\"dataframe\">\n",
       "  <thead>\n",
       "    <tr style=\"text-align: right;\">\n",
       "      <th></th>\n",
       "      <th>host_is_superhost</th>\n",
       "      <th>instant_bookable</th>\n",
       "      <th>has_availability</th>\n",
       "    </tr>\n",
       "  </thead>\n",
       "  <tbody>\n",
       "    <tr>\n",
       "      <th>0</th>\n",
       "      <td>f</td>\n",
       "      <td>t</td>\n",
       "      <td>t</td>\n",
       "    </tr>\n",
       "    <tr>\n",
       "      <th>1</th>\n",
       "      <td>t</td>\n",
       "      <td>f</td>\n",
       "      <td>t</td>\n",
       "    </tr>\n",
       "    <tr>\n",
       "      <th>2</th>\n",
       "      <td>f</td>\n",
       "      <td>f</td>\n",
       "      <td>t</td>\n",
       "    </tr>\n",
       "    <tr>\n",
       "      <th>3</th>\n",
       "      <td>f</td>\n",
       "      <td>f</td>\n",
       "      <td>t</td>\n",
       "    </tr>\n",
       "    <tr>\n",
       "      <th>4</th>\n",
       "      <td>t</td>\n",
       "      <td>f</td>\n",
       "      <td>t</td>\n",
       "    </tr>\n",
       "  </tbody>\n",
       "</table>\n",
       "</div>"
      ],
      "text/plain": [
       "  host_is_superhost instant_bookable has_availability\n",
       "0                 f                t                t\n",
       "1                 t                f                t\n",
       "2                 f                f                t\n",
       "3                 f                f                t\n",
       "4                 t                f                t"
      ]
     },
     "execution_count": 8,
     "metadata": {},
     "output_type": "execute_result"
    }
   ],
   "source": [
    "df_list[[\"host_is_superhost\", \"instant_bookable\", \"has_availability\"]].head(5)"
   ]
  },
  {
   "cell_type": "code",
   "execution_count": 9,
   "id": "ee23b759",
   "metadata": {},
   "outputs": [],
   "source": [
    "df_list[\"host_is_superhost\"] = (\n",
    "    df_list[\"host_is_superhost\"].replace({\"f\": False, \"t\": True}).astype(\"bool\")\n",
    ")\n",
    "df_list[\"instant_bookable\"] = (\n",
    "    df_list[\"instant_bookable\"].replace({\"f\": False, \"t\": True}).astype(\"bool\")\n",
    ")\n",
    "df_list[\"has_availability\"] = (\n",
    "    df_list[\"has_availability\"].replace({\"f\": False, \"t\": True}).astype(\"bool\")\n",
    ")"
   ]
  },
  {
   "cell_type": "code",
   "execution_count": 10,
   "id": "f3bf638f",
   "metadata": {},
   "outputs": [
    {
     "data": {
      "text/html": [
       "<div>\n",
       "<style scoped>\n",
       "    .dataframe tbody tr th:only-of-type {\n",
       "        vertical-align: middle;\n",
       "    }\n",
       "\n",
       "    .dataframe tbody tr th {\n",
       "        vertical-align: top;\n",
       "    }\n",
       "\n",
       "    .dataframe thead th {\n",
       "        text-align: right;\n",
       "    }\n",
       "</style>\n",
       "<table border=\"1\" class=\"dataframe\">\n",
       "  <thead>\n",
       "    <tr style=\"text-align: right;\">\n",
       "      <th></th>\n",
       "      <th>price</th>\n",
       "      <th>price_per_person</th>\n",
       "      <th>minimum_price</th>\n",
       "      <th>service_cost</th>\n",
       "    </tr>\n",
       "  </thead>\n",
       "  <tbody>\n",
       "    <tr>\n",
       "      <th>0</th>\n",
       "      <td>$88.00</td>\n",
       "      <td>$44</td>\n",
       "      <td>$176</td>\n",
       "      <td>$4.99</td>\n",
       "    </tr>\n",
       "    <tr>\n",
       "      <th>1</th>\n",
       "      <td>$105.00</td>\n",
       "      <td>$52.5</td>\n",
       "      <td>$315</td>\n",
       "      <td>$4.99</td>\n",
       "    </tr>\n",
       "    <tr>\n",
       "      <th>2</th>\n",
       "      <td>$152.00</td>\n",
       "      <td>$38</td>\n",
       "      <td>$304</td>\n",
       "      <td>$4.99</td>\n",
       "    </tr>\n",
       "    <tr>\n",
       "      <th>3</th>\n",
       "      <td>$87.00</td>\n",
       "      <td>$43.5</td>\n",
       "      <td>$174</td>\n",
       "      <td>$4.99</td>\n",
       "    </tr>\n",
       "    <tr>\n",
       "      <th>4</th>\n",
       "      <td>$160.00</td>\n",
       "      <td>$40</td>\n",
       "      <td>$320</td>\n",
       "      <td>$4.99</td>\n",
       "    </tr>\n",
       "  </tbody>\n",
       "</table>\n",
       "</div>"
      ],
      "text/plain": [
       "     price price_per_person minimum_price service_cost\n",
       "0   $88.00              $44          $176        $4.99\n",
       "1  $105.00            $52.5          $315        $4.99\n",
       "2  $152.00              $38          $304        $4.99\n",
       "3   $87.00            $43.5          $174        $4.99\n",
       "4  $160.00              $40          $320        $4.99"
      ]
     },
     "execution_count": 10,
     "metadata": {},
     "output_type": "execute_result"
    }
   ],
   "source": [
    "df_list[[\"price\", \"price_per_person\", \"minimum_price\", 'service_cost']].head(5)"
   ]
  },
  {
   "cell_type": "code",
   "execution_count": 11,
   "id": "2d62169c",
   "metadata": {},
   "outputs": [],
   "source": [
    "df_list[\"price\"] = (\n",
    "    df_list[\"price\"]\n",
    "    .str.replace(\"$\", \"\", regex=True)\n",
    "    .str.replace(\",\", \"\", regex=True)\n",
    "    .astype(\"float\")\n",
    ")\n",
    "df_list[\"price_per_person\"] = (\n",
    "    df_list[\"price_per_person\"]\n",
    "    .str.replace(\"$\", \"\", regex=True)\n",
    "    .str.replace(\",\", \"\", regex=True)\n",
    "    .astype(\"float\")\n",
    ")\n",
    "df_list[\"minimum_price\"] = (\n",
    "    df_list[\"minimum_price\"]\n",
    "    .str.replace(\"$\", \"\", regex=True)\n",
    "    .str.replace(\",\", \"\", regex=True)\n",
    "    .astype(\"float\")\n",
    ")\n",
    "df_list[\"service_cost\"] = (\n",
    "    df_list[\"service_cost\"]\n",
    "    .str.replace(\"$\", \"\", regex=True)\n",
    "    .str.replace(\",\", \"\", regex=True)\n",
    "    .astype(\"float\")\n",
    ")"
   ]
  },
  {
   "cell_type": "code",
   "execution_count": 12,
   "id": "a2907353",
   "metadata": {},
   "outputs": [],
   "source": [
    "df_list = df_list.rename(columns={\"price\": \"price_in_dollar\", \"neighbourhood_cleansed\": \"neighbourhood\"})"
   ]
  },
  {
   "cell_type": "code",
   "execution_count": 13,
   "id": "05107843",
   "metadata": {},
   "outputs": [],
   "source": [
    "df_list = df_list.astype(\n",
    "    {\n",
    "        \"neighbourhood\": \"category\",\n",
    "        \"room_type\": \"category\",\n",
    "    }\n",
    ")"
   ]
  },
  {
   "cell_type": "code",
   "execution_count": 14,
   "id": "b2ba184b",
   "metadata": {},
   "outputs": [],
   "source": [
    "df_list = df_list.drop(\n",
    "    columns=[\n",
    "        \"host_listings_count\",\n",
    "        \"host_total_listings_count\",\n",
    "        \"availability_60\",\n",
    "        \"availability_90\",\n",
    "        \"availability_365\",\n",
    "        \"number_of_reviews\",\n",
    "        \"number_of_reviews_ltm\",\n",
    "        \"reviews_per_month\",\n",
    "    ]\n",
    ")"
   ]
  },
  {
   "cell_type": "code",
   "execution_count": 15,
   "id": "7c5b22b0",
   "metadata": {},
   "outputs": [
    {
     "name": "stdout",
     "output_type": "stream",
     "text": [
      "<class 'pandas.core.frame.DataFrame'>\n",
      "Int64Index: 6165 entries, 0 to 6172\n",
      "Data columns (total 26 columns):\n",
      " #   Column                                Non-Null Count  Dtype   \n",
      "---  ------                                --------------  -----   \n",
      " 0   id                                    6165 non-null   int64   \n",
      " 1   host_acceptance_rate                  5365 non-null   float64 \n",
      " 2   host_is_superhost                     6165 non-null   bool    \n",
      " 3   neighbourhood                         6165 non-null   category\n",
      " 4   latitude                              6165 non-null   float64 \n",
      " 5   longitude                             6165 non-null   float64 \n",
      " 6   room_type                             6165 non-null   category\n",
      " 7   accommodates                          6165 non-null   int64   \n",
      " 8   bedrooms                              5859 non-null   float64 \n",
      " 9   beds                                  6082 non-null   float64 \n",
      " 10  amenities                             6165 non-null   int64   \n",
      " 11  price_in_dollar                       6165 non-null   float64 \n",
      " 12  minimum_nights                        6165 non-null   int64   \n",
      " 13  maximum_nights                        6165 non-null   int64   \n",
      " 14  has_availability                      6165 non-null   bool    \n",
      " 15  availability_30                       6165 non-null   int64   \n",
      " 16  number_of_reviews_l30d                6165 non-null   int64   \n",
      " 17  review_scores_rating                  5581 non-null   float64 \n",
      " 18  instant_bookable                      6165 non-null   bool    \n",
      " 19  price_in_euros                        0 non-null      object  \n",
      " 20  price_per_person                      6165 non-null   float64 \n",
      " 21  minimum_price                         6165 non-null   float64 \n",
      " 22  discount_per_5_days_booked            6165 non-null   float64 \n",
      " 23  discount_per_10_days_booked           6165 non-null   float64 \n",
      " 24  discount_per_30_and_more_days_booked  6165 non-null   float64 \n",
      " 25  service_cost                          6165 non-null   float64 \n",
      "dtypes: bool(3), category(2), float64(13), int64(7), object(1)\n",
      "memory usage: 1.1+ MB\n"
     ]
    }
   ],
   "source": [
    "df_list.info(verbose=True, show_counts=True)"
   ]
  },
  {
   "cell_type": "code",
   "execution_count": 18,
   "id": "2090db92",
   "metadata": {},
   "outputs": [
    {
     "data": {
      "text/plain": [
       "['Private room', 'Entire home/apt', 'Hotel room', 'Shared room']\n",
       "Categories (4, object): ['Entire home/apt', 'Hotel room', 'Private room', 'Shared room']"
      ]
     },
     "execution_count": 18,
     "metadata": {},
     "output_type": "execute_result"
    }
   ],
   "source": [
    "df_list[\"room_type\"].unique()"
   ]
  },
  {
   "cell_type": "code",
   "execution_count": 19,
   "id": "69d068a9",
   "metadata": {},
   "outputs": [],
   "source": [
    "def fill_empty_bedrooms(accommodates: int, bedrooms: int, room_type: str) -> int:\n",
    "    if (room_type == \"Private room\") or (room_type == \"Shared room\"):\n",
    "        return 1\n",
    "    elif (room_type == \"Hotel room\") or (room_type == \"Entire home/apt\"):\n",
    "        return np.ceil(accommodates / 2)\n",
    "    else:\n",
    "        return bedrooms"
   ]
  },
  {
   "cell_type": "code",
   "execution_count": 20,
   "id": "40295108",
   "metadata": {},
   "outputs": [
    {
     "name": "stdout",
     "output_type": "stream",
     "text": [
      "91.3 ms ± 1.35 ms per loop (mean ± std. dev. of 4 runs, 100 loops each)\n"
     ]
    }
   ],
   "source": [
    "%%timeit -r 4 -n 100\n",
    "\n",
    "temp_df = df_list.copy()  # Deep copy of the df, not a \"view\"\n",
    "temp_df[\"rooms\"] = df_list[[\"accommodates\", \"bedrooms\", \"room_type\"]].apply(\n",
    "    lambda x: fill_empty_bedrooms(x[\"accommodates\"], x[\"bedrooms\"], x[\"room_type\"]),\n",
    "    axis=1,\n",
    ")"
   ]
  },
  {
   "cell_type": "code",
   "execution_count": 22,
   "id": "160df8bb",
   "metadata": {},
   "outputs": [],
   "source": [
    "df_list[\"bedrooms\"] = df_list[[\"accommodates\", \"bedrooms\", \"room_type\"]].apply(\n",
    "    lambda x: fill_empty_bedrooms(x[\"accommodates\"], x[\"bedrooms\"], x[\"room_type\"]),\n",
    "    axis=1,\n",
    ")"
   ]
  },
  {
   "cell_type": "code",
   "execution_count": 23,
   "id": "ccb8d079",
   "metadata": {},
   "outputs": [
    {
     "name": "stdout",
     "output_type": "stream",
     "text": [
      "3.02 ms ± 212 µs per loop (mean ± std. dev. of 4 runs, 100 loops each)\n"
     ]
    }
   ],
   "source": [
    "%%timeit -r 4 -n 100\n",
    "\n",
    "temp_df = df_list.copy()\n",
    "\n",
    "\n",
    "temp_df[\"beds\"] = temp_df.bedrooms\n",
    "priv_shared_mask = (temp_df.room_type == \"Private room\") | (\n",
    "    temp_df.room_type == \"Shared room\"\n",
    ")\n",
    "temp_df.loc[priv_shared_mask, \"beds\"] = 1\n",
    "hotel_apt_mask = (temp_df.room_type == \"Hotel room\") | (\n",
    "    temp_df.room_type == \"Entire home/apt\"\n",
    ")\n",
    "temp_df.loc[hotel_apt_mask, \"beds\"] = np.ceil(temp_df.accommodates / 2)"
   ]
  },
  {
   "cell_type": "code",
   "execution_count": 25,
   "id": "717e0d9f",
   "metadata": {},
   "outputs": [],
   "source": [
    "df_list = df_list.dropna(subset=[\"bedrooms\", \"beds\"])"
   ]
  },
  {
   "cell_type": "code",
   "execution_count": 26,
   "id": "267812cf",
   "metadata": {},
   "outputs": [],
   "source": [
    "df_list[\"beds\"] = df_list[\"beds\"].astype(\"int\")\n",
    "df_list[\"bedrooms\"] = df_list[\"bedrooms\"].astype(\"int\")"
   ]
  },
  {
   "cell_type": "code",
   "execution_count": 27,
   "id": "abc97a2a",
   "metadata": {},
   "outputs": [
    {
     "name": "stdout",
     "output_type": "stream",
     "text": [
      "<class 'pandas.core.frame.DataFrame'>\n",
      "Int64Index: 6082 entries, 0 to 6172\n",
      "Data columns (total 25 columns):\n",
      " #   Column                                Non-Null Count  Dtype   \n",
      "---  ------                                --------------  -----   \n",
      " 0   id                                    6082 non-null   int64   \n",
      " 1   host_acceptance_rate                  5283 non-null   float64 \n",
      " 2   host_is_superhost                     6082 non-null   bool    \n",
      " 3   neighbourhood                         6082 non-null   category\n",
      " 4   latitude                              6082 non-null   float64 \n",
      " 5   longitude                             6082 non-null   float64 \n",
      " 6   room_type                             6082 non-null   category\n",
      " 7   accommodates                          6082 non-null   int64   \n",
      " 8   bedrooms                              6082 non-null   int32   \n",
      " 9   beds                                  6082 non-null   int32   \n",
      " 10  amenities                             6082 non-null   int64   \n",
      " 11  price_in_dollar                       6082 non-null   float64 \n",
      " 12  minimum_nights                        6082 non-null   int64   \n",
      " 13  maximum_nights                        6082 non-null   int64   \n",
      " 14  has_availability                      6082 non-null   bool    \n",
      " 15  availability_30                       6082 non-null   int64   \n",
      " 16  number_of_reviews_l30d                6082 non-null   int64   \n",
      " 17  review_scores_rating                  5511 non-null   float64 \n",
      " 18  instant_bookable                      6082 non-null   bool    \n",
      " 19  price_per_person                      6082 non-null   float64 \n",
      " 20  minimum_price                         6082 non-null   float64 \n",
      " 21  discount_per_5_days_booked            6082 non-null   float64 \n",
      " 22  discount_per_10_days_booked           6082 non-null   float64 \n",
      " 23  discount_per_30_and_more_days_booked  6082 non-null   float64 \n",
      " 24  service_cost                          6082 non-null   float64 \n",
      "dtypes: bool(3), category(2), float64(11), int32(2), int64(7)\n",
      "memory usage: 980.9 KB\n"
     ]
    }
   ],
   "source": [
    "df_list.info(verbose=True, show_counts=True)"
   ]
  },
  {
   "cell_type": "code",
   "execution_count": 28,
   "id": "e33efbfa",
   "metadata": {},
   "outputs": [
    {
     "data": {
      "text/html": [
       "<div>\n",
       "<style scoped>\n",
       "    .dataframe tbody tr th:only-of-type {\n",
       "        vertical-align: middle;\n",
       "    }\n",
       "\n",
       "    .dataframe tbody tr th {\n",
       "        vertical-align: top;\n",
       "    }\n",
       "\n",
       "    .dataframe thead th {\n",
       "        text-align: right;\n",
       "    }\n",
       "</style>\n",
       "<table border=\"1\" class=\"dataframe\">\n",
       "  <thead>\n",
       "    <tr style=\"text-align: right;\">\n",
       "      <th></th>\n",
       "      <th>id</th>\n",
       "      <th>host_acceptance_rate</th>\n",
       "      <th>host_is_superhost</th>\n",
       "      <th>neighbourhood</th>\n",
       "      <th>latitude</th>\n",
       "      <th>longitude</th>\n",
       "      <th>room_type</th>\n",
       "      <th>accommodates</th>\n",
       "      <th>bedrooms</th>\n",
       "      <th>beds</th>\n",
       "      <th>amenities</th>\n",
       "      <th>price_in_dollar</th>\n",
       "      <th>minimum_nights</th>\n",
       "      <th>maximum_nights</th>\n",
       "      <th>has_availability</th>\n",
       "      <th>availability_30</th>\n",
       "      <th>number_of_reviews_l30d</th>\n",
       "      <th>review_scores_rating</th>\n",
       "      <th>instant_bookable</th>\n",
       "      <th>price_per_person</th>\n",
       "      <th>minimum_price</th>\n",
       "      <th>discount_per_5_days_booked</th>\n",
       "      <th>discount_per_10_days_booked</th>\n",
       "      <th>discount_per_30_and_more_days_booked</th>\n",
       "      <th>service_cost</th>\n",
       "    </tr>\n",
       "  </thead>\n",
       "  <tbody>\n",
       "    <tr>\n",
       "      <th>0</th>\n",
       "      <td>23726706</td>\n",
       "      <td>0.95</td>\n",
       "      <td>False</td>\n",
       "      <td>IJburg - Zeeburgereiland</td>\n",
       "      <td>52.35</td>\n",
       "      <td>4.98</td>\n",
       "      <td>Private room</td>\n",
       "      <td>2</td>\n",
       "      <td>1</td>\n",
       "      <td>1</td>\n",
       "      <td>6</td>\n",
       "      <td>88.00</td>\n",
       "      <td>2</td>\n",
       "      <td>14</td>\n",
       "      <td>True</td>\n",
       "      <td>0</td>\n",
       "      <td>3</td>\n",
       "      <td>4.99</td>\n",
       "      <td>True</td>\n",
       "      <td>44.00</td>\n",
       "      <td>176.00</td>\n",
       "      <td>0.05</td>\n",
       "      <td>0.11</td>\n",
       "      <td>0.16</td>\n",
       "      <td>4.99</td>\n",
       "    </tr>\n",
       "    <tr>\n",
       "      <th>1</th>\n",
       "      <td>35815036</td>\n",
       "      <td>1.00</td>\n",
       "      <td>True</td>\n",
       "      <td>Noord-Oost</td>\n",
       "      <td>52.42</td>\n",
       "      <td>4.96</td>\n",
       "      <td>Entire home/apt</td>\n",
       "      <td>2</td>\n",
       "      <td>1</td>\n",
       "      <td>1</td>\n",
       "      <td>5</td>\n",
       "      <td>105.00</td>\n",
       "      <td>3</td>\n",
       "      <td>100</td>\n",
       "      <td>True</td>\n",
       "      <td>4</td>\n",
       "      <td>6</td>\n",
       "      <td>4.96</td>\n",
       "      <td>False</td>\n",
       "      <td>52.50</td>\n",
       "      <td>315.00</td>\n",
       "      <td>0.05</td>\n",
       "      <td>0.12</td>\n",
       "      <td>0.16</td>\n",
       "      <td>4.99</td>\n",
       "    </tr>\n",
       "    <tr>\n",
       "      <th>2</th>\n",
       "      <td>31553121</td>\n",
       "      <td>1.00</td>\n",
       "      <td>False</td>\n",
       "      <td>Noord-West</td>\n",
       "      <td>52.43</td>\n",
       "      <td>4.92</td>\n",
       "      <td>Entire home/apt</td>\n",
       "      <td>4</td>\n",
       "      <td>2</td>\n",
       "      <td>3</td>\n",
       "      <td>3</td>\n",
       "      <td>152.00</td>\n",
       "      <td>2</td>\n",
       "      <td>60</td>\n",
       "      <td>True</td>\n",
       "      <td>0</td>\n",
       "      <td>1</td>\n",
       "      <td>4.74</td>\n",
       "      <td>False</td>\n",
       "      <td>38.00</td>\n",
       "      <td>304.00</td>\n",
       "      <td>0.07</td>\n",
       "      <td>0.11</td>\n",
       "      <td>0.22</td>\n",
       "      <td>4.99</td>\n",
       "    </tr>\n",
       "  </tbody>\n",
       "</table>\n",
       "</div>"
      ],
      "text/plain": [
       "         id  host_acceptance_rate  host_is_superhost  \\\n",
       "0  23726706                  0.95              False   \n",
       "1  35815036                  1.00               True   \n",
       "2  31553121                  1.00              False   \n",
       "\n",
       "              neighbourhood  latitude  longitude        room_type  \\\n",
       "0  IJburg - Zeeburgereiland     52.35       4.98     Private room   \n",
       "1                Noord-Oost     52.42       4.96  Entire home/apt   \n",
       "2                Noord-West     52.43       4.92  Entire home/apt   \n",
       "\n",
       "   accommodates  bedrooms  beds  amenities  price_in_dollar  minimum_nights  \\\n",
       "0             2         1     1          6            88.00               2   \n",
       "1             2         1     1          5           105.00               3   \n",
       "2             4         2     3          3           152.00               2   \n",
       "\n",
       "   maximum_nights  has_availability  availability_30  number_of_reviews_l30d  \\\n",
       "0              14              True                0                       3   \n",
       "1             100              True                4                       6   \n",
       "2              60              True                0                       1   \n",
       "\n",
       "   review_scores_rating  instant_bookable  price_per_person  minimum_price  \\\n",
       "0                  4.99              True             44.00         176.00   \n",
       "1                  4.96             False             52.50         315.00   \n",
       "2                  4.74             False             38.00         304.00   \n",
       "\n",
       "   discount_per_5_days_booked  discount_per_10_days_booked  \\\n",
       "0                        0.05                         0.11   \n",
       "1                        0.05                         0.12   \n",
       "2                        0.07                         0.11   \n",
       "\n",
       "   discount_per_30_and_more_days_booked  service_cost  \n",
       "0                                  0.16          4.99  \n",
       "1                                  0.16          4.99  \n",
       "2                                  0.22          4.99  "
      ]
     },
     "execution_count": 28,
     "metadata": {},
     "output_type": "execute_result"
    }
   ],
   "source": [
    "df_list.head(3)"
   ]
  },
  {
   "cell_type": "code",
   "execution_count": 29,
   "id": "86516f50",
   "metadata": {},
   "outputs": [
    {
     "data": {
      "text/html": [
       "<div>\n",
       "<style scoped>\n",
       "    .dataframe tbody tr th:only-of-type {\n",
       "        vertical-align: middle;\n",
       "    }\n",
       "\n",
       "    .dataframe tbody tr th {\n",
       "        vertical-align: top;\n",
       "    }\n",
       "\n",
       "    .dataframe thead th {\n",
       "        text-align: right;\n",
       "    }\n",
       "</style>\n",
       "<table border=\"1\" class=\"dataframe\">\n",
       "  <thead>\n",
       "    <tr style=\"text-align: right;\">\n",
       "      <th></th>\n",
       "      <th>listing_id</th>\n",
       "      <th>date</th>\n",
       "      <th>available</th>\n",
       "      <th>price_in_dollar</th>\n",
       "      <th>minimum_nights</th>\n",
       "      <th>maximum_nights</th>\n",
       "    </tr>\n",
       "  </thead>\n",
       "  <tbody>\n",
       "    <tr>\n",
       "      <th>0</th>\n",
       "      <td>23726706</td>\n",
       "      <td>2022-06-05</td>\n",
       "      <td>False</td>\n",
       "      <td>90.00</td>\n",
       "      <td>2</td>\n",
       "      <td>1125</td>\n",
       "    </tr>\n",
       "    <tr>\n",
       "      <th>1</th>\n",
       "      <td>23726706</td>\n",
       "      <td>2022-06-06</td>\n",
       "      <td>False</td>\n",
       "      <td>90.00</td>\n",
       "      <td>2</td>\n",
       "      <td>1125</td>\n",
       "    </tr>\n",
       "    <tr>\n",
       "      <th>2</th>\n",
       "      <td>23726706</td>\n",
       "      <td>2022-06-07</td>\n",
       "      <td>False</td>\n",
       "      <td>90.00</td>\n",
       "      <td>2</td>\n",
       "      <td>1125</td>\n",
       "    </tr>\n",
       "  </tbody>\n",
       "</table>\n",
       "</div>"
      ],
      "text/plain": [
       "   listing_id       date  available  price_in_dollar  minimum_nights  \\\n",
       "0    23726706 2022-06-05      False            90.00               2   \n",
       "1    23726706 2022-06-06      False            90.00               2   \n",
       "2    23726706 2022-06-07      False            90.00               2   \n",
       "\n",
       "   maximum_nights  \n",
       "0            1125  \n",
       "1            1125  \n",
       "2            1125  "
      ]
     },
     "execution_count": 29,
     "metadata": {},
     "output_type": "execute_result"
    }
   ],
   "source": [
    "# The Calendar DataFrame!\n",
    "df_cal.head(3)"
   ]
  },
  {
   "cell_type": "code",
   "execution_count": 30,
   "id": "80987354",
   "metadata": {},
   "outputs": [],
   "source": [
    "calendar_newdf = df_cal.copy()\n",
    "\n",
    "include_list = (\n",
    "    calendar_newdf[\"minimum_nights\"] >= 3\n",
    ")"
   ]
  },
  {
   "cell_type": "code",
   "execution_count": 31,
   "id": "0840bc66",
   "metadata": {},
   "outputs": [],
   "source": [
    "calendar_newdf = calendar_newdf.loc[include_list]"
   ]
  },
  {
   "cell_type": "code",
   "execution_count": 32,
   "id": "0d91b0de",
   "metadata": {},
   "outputs": [],
   "source": [
    "calendar_newdf[\"five_day_dollar_price\"] = calendar_newdf[\"price_in_dollar\"] * 5"
   ]
  },
  {
   "cell_type": "code",
   "execution_count": 33,
   "id": "ff1368c9",
   "metadata": {},
   "outputs": [
    {
     "data": {
      "text/html": [
       "<div>\n",
       "<style scoped>\n",
       "    .dataframe tbody tr th:only-of-type {\n",
       "        vertical-align: middle;\n",
       "    }\n",
       "\n",
       "    .dataframe tbody tr th {\n",
       "        vertical-align: top;\n",
       "    }\n",
       "\n",
       "    .dataframe thead th {\n",
       "        text-align: right;\n",
       "    }\n",
       "</style>\n",
       "<table border=\"1\" class=\"dataframe\">\n",
       "  <thead>\n",
       "    <tr style=\"text-align: right;\">\n",
       "      <th></th>\n",
       "      <th>available</th>\n",
       "      <th>five_day_dollar_price</th>\n",
       "    </tr>\n",
       "    <tr>\n",
       "      <th>listing_id</th>\n",
       "      <th></th>\n",
       "      <th></th>\n",
       "    </tr>\n",
       "  </thead>\n",
       "  <tbody>\n",
       "    <tr>\n",
       "      <th>2818</th>\n",
       "      <td>0.21</td>\n",
       "      <td>346.90</td>\n",
       "    </tr>\n",
       "    <tr>\n",
       "      <th>44391</th>\n",
       "      <td>0.00</td>\n",
       "      <td>1200.00</td>\n",
       "    </tr>\n",
       "    <tr>\n",
       "      <th>49552</th>\n",
       "      <td>0.46</td>\n",
       "      <td>1162.50</td>\n",
       "    </tr>\n",
       "  </tbody>\n",
       "</table>\n",
       "</div>"
      ],
      "text/plain": [
       "            available  five_day_dollar_price\n",
       "listing_id                                  \n",
       "2818             0.21                 346.90\n",
       "44391            0.00                1200.00\n",
       "49552            0.46                1162.50"
      ]
     },
     "execution_count": 33,
     "metadata": {},
     "output_type": "execute_result"
    }
   ],
   "source": [
    "calendar_summarizeddf = pd.pivot_table(\n",
    "    data=calendar_newdf,\n",
    "    index=[\"listing_id\"],\n",
    "    values=[\"available\", \"five_day_dollar_price\"],\n",
    "    aggfunc=np.mean,  # The default aggregation function used\n",
    "    # for merging multiple related rows of data.\n",
    ")\n",
    "\n",
    "calendar_summarizeddf.head(3)"
   ]
  },
  {
   "cell_type": "code",
   "execution_count": 35,
   "id": "e9a1bd7c",
   "metadata": {},
   "outputs": [],
   "source": [
    "temp_sum_df = pd.pivot_table(\n",
    "    data=calendar_newdf,\n",
    "    index=[\"listing_id\"],\n",
    "    values=[\"price_in_dollar\"],\n",
    "    aggfunc=np.max,  # The default aggregation function used\n",
    "    # for merging multiple related rows of data.\n",
    ")"
   ]
  },
  {
   "cell_type": "code",
   "execution_count": 36,
   "id": "afbe7479",
   "metadata": {},
   "outputs": [],
   "source": [
    "final_df = pd.merge(\n",
    "    df_list,\n",
    "    calendar_summarizeddf,\n",
    "    left_on=[\"id\"],\n",
    "    right_on=[\"listing_id\"],\n",
    "    how=\"inner\",\n",
    ")"
   ]
  },
  {
   "cell_type": "code",
   "execution_count": 37,
   "id": "b42190be",
   "metadata": {},
   "outputs": [
    {
     "data": {
      "text/html": [
       "<div>\n",
       "<style scoped>\n",
       "    .dataframe tbody tr th:only-of-type {\n",
       "        vertical-align: middle;\n",
       "    }\n",
       "\n",
       "    .dataframe tbody tr th {\n",
       "        vertical-align: top;\n",
       "    }\n",
       "\n",
       "    .dataframe thead th {\n",
       "        text-align: right;\n",
       "    }\n",
       "</style>\n",
       "<table border=\"1\" class=\"dataframe\">\n",
       "  <thead>\n",
       "    <tr style=\"text-align: right;\">\n",
       "      <th></th>\n",
       "      <th>review_scores_rating</th>\n",
       "      <th>five_day_dollar_price</th>\n",
       "    </tr>\n",
       "    <tr>\n",
       "      <th>room_type</th>\n",
       "      <th></th>\n",
       "      <th></th>\n",
       "    </tr>\n",
       "  </thead>\n",
       "  <tbody>\n",
       "    <tr>\n",
       "      <th>Entire home/apt</th>\n",
       "      <td>4.88</td>\n",
       "      <td>956.91</td>\n",
       "    </tr>\n",
       "    <tr>\n",
       "      <th>Hotel room</th>\n",
       "      <td>4.56</td>\n",
       "      <td>1139.81</td>\n",
       "    </tr>\n",
       "    <tr>\n",
       "      <th>Private room</th>\n",
       "      <td>4.79</td>\n",
       "      <td>704.61</td>\n",
       "    </tr>\n",
       "    <tr>\n",
       "      <th>Shared room</th>\n",
       "      <td>4.60</td>\n",
       "      <td>724.11</td>\n",
       "    </tr>\n",
       "  </tbody>\n",
       "</table>\n",
       "</div>"
      ],
      "text/plain": [
       "                 review_scores_rating  five_day_dollar_price\n",
       "room_type                                                   \n",
       "Entire home/apt                  4.88                 956.91\n",
       "Hotel room                       4.56                1139.81\n",
       "Private room                     4.79                 704.61\n",
       "Shared room                      4.60                 724.11"
      ]
     },
     "execution_count": 37,
     "metadata": {},
     "output_type": "execute_result"
    }
   ],
   "source": [
    "final_df.groupby(by=[\"room_type\"])[\n",
    "    [\n",
    "        \"review_scores_rating\",\n",
    "        \"five_day_dollar_price\",\n",
    "    ]\n",
    "].median()"
   ]
  },
  {
   "cell_type": "code",
   "execution_count": 38,
   "id": "f411eb3e",
   "metadata": {},
   "outputs": [],
   "source": [
    "final_df.to_csv(\n",
    "    \"Airbnb_Amsterdam_Listings2.csv\",\n",
    "    index=True,\n",
    ")"
   ]
  },
  {
   "cell_type": "code",
   "execution_count": null,
   "id": "4039c450",
   "metadata": {},
   "outputs": [],
   "source": []
  }
 ],
 "metadata": {
  "kernelspec": {
   "display_name": "Python 3",
   "language": "python",
   "name": "python3"
  },
  "language_info": {
   "codemirror_mode": {
    "name": "ipython",
    "version": 3
   },
   "file_extension": ".py",
   "mimetype": "text/x-python",
   "name": "python",
   "nbconvert_exporter": "python",
   "pygments_lexer": "ipython3",
   "version": "3.8.8"
  }
 },
 "nbformat": 4,
 "nbformat_minor": 5
}
